{
  "nbformat": 4,
  "nbformat_minor": 0,
  "metadata": {
    "colab": {
      "provenance": [],
      "gpuType": "T4"
    },
    "kernelspec": {
      "name": "python3",
      "display_name": "Python 3"
    },
    "language_info": {
      "name": "python"
    },
    "accelerator": "GPU"
  },
  "cells": [
    {
      "cell_type": "markdown",
      "source": [
        "## Download the Dataset from Kaggle"
      ],
      "metadata": {
        "id": "o_7r5llFkQeg"
      }
    },
    {
      "cell_type": "code",
      "execution_count": 2,
      "metadata": {
        "colab": {
          "base_uri": "https://localhost:8080/"
        },
        "id": "4-yl1jmPaUV5",
        "outputId": "d8e6199f-d2d8-4ae2-fb60-5c79f1421c79"
      },
      "outputs": [
        {
          "output_type": "stream",
          "name": "stdout",
          "text": [
            "Warning: Looks like you're using an outdated `kagglehub` version (installed: 0.3.6), please consider upgrading to the latest version (0.3.8).\n",
            "Downloading from https://www.kaggle.com/api/v1/datasets/download/crawford/emnist?dataset_version_number=3...\n"
          ]
        },
        {
          "output_type": "stream",
          "name": "stderr",
          "text": [
            "100%|██████████| 1.24G/1.24G [00:58<00:00, 22.8MB/s]"
          ]
        },
        {
          "output_type": "stream",
          "name": "stdout",
          "text": [
            "Extracting files...\n"
          ]
        },
        {
          "output_type": "stream",
          "name": "stderr",
          "text": [
            "\n"
          ]
        },
        {
          "output_type": "stream",
          "name": "stdout",
          "text": [
            "Path to dataset files: /root/.cache/kagglehub/datasets/crawford/emnist/versions/3\n"
          ]
        }
      ],
      "source": [
        "import kagglehub\n",
        "\n",
        "path = kagglehub.dataset_download(\"crawford/emnist\")\n",
        "\n",
        "print(\"Path to dataset files:\", path)"
      ]
    },
    {
      "cell_type": "code",
      "source": [
        "import numpy as np\n",
        "import pandas as pd\n",
        "import os\n",
        "\n",
        "# Listing all files under the dataset path\n",
        "\n",
        "dataset_path = \"/root/.cache/kagglehub/datasets/crawford/emnist/versions/3\"\n",
        "\n",
        "for dirname, _, filenames in os.walk(dataset_path):\n",
        "    for filename in filenames:\n",
        "        print(os.path.join(dirname, filename))\n"
      ],
      "metadata": {
        "colab": {
          "base_uri": "https://localhost:8080/"
        },
        "id": "xF56F5xXaZjp",
        "outputId": "b7af97f7-3513-4473-8d3f-d4452f495a9e"
      },
      "execution_count": 3,
      "outputs": [
        {
          "output_type": "stream",
          "name": "stdout",
          "text": [
            "/root/.cache/kagglehub/datasets/crawford/emnist/versions/3/emnist-digits-mapping.txt\n",
            "/root/.cache/kagglehub/datasets/crawford/emnist/versions/3/emnist-letters-mapping.txt\n",
            "/root/.cache/kagglehub/datasets/crawford/emnist/versions/3/emnist-bymerge-test.csv\n",
            "/root/.cache/kagglehub/datasets/crawford/emnist/versions/3/emnist-bymerge-train.csv\n",
            "/root/.cache/kagglehub/datasets/crawford/emnist/versions/3/emnist-mnist-train.csv\n",
            "/root/.cache/kagglehub/datasets/crawford/emnist/versions/3/emnist-balanced-train.csv\n",
            "/root/.cache/kagglehub/datasets/crawford/emnist/versions/3/emnist-bymerge-mapping.txt\n",
            "/root/.cache/kagglehub/datasets/crawford/emnist/versions/3/emnist-byclass-train.csv\n",
            "/root/.cache/kagglehub/datasets/crawford/emnist/versions/3/emnist-digits-train.csv\n",
            "/root/.cache/kagglehub/datasets/crawford/emnist/versions/3/emnist-byclass-mapping.txt\n",
            "/root/.cache/kagglehub/datasets/crawford/emnist/versions/3/emnist-mnist-test.csv\n",
            "/root/.cache/kagglehub/datasets/crawford/emnist/versions/3/emnist-balanced-test.csv\n",
            "/root/.cache/kagglehub/datasets/crawford/emnist/versions/3/emnist-letters-train.csv\n",
            "/root/.cache/kagglehub/datasets/crawford/emnist/versions/3/emnist-balanced-mapping.txt\n",
            "/root/.cache/kagglehub/datasets/crawford/emnist/versions/3/emnist-digits-test.csv\n",
            "/root/.cache/kagglehub/datasets/crawford/emnist/versions/3/emnist-mnist-mapping.txt\n",
            "/root/.cache/kagglehub/datasets/crawford/emnist/versions/3/emnist-letters-test.csv\n",
            "/root/.cache/kagglehub/datasets/crawford/emnist/versions/3/emnist-byclass-test.csv\n",
            "/root/.cache/kagglehub/datasets/crawford/emnist/versions/3/emnist_source_files/emnist-mnist-test-labels-idx1-ubyte\n",
            "/root/.cache/kagglehub/datasets/crawford/emnist/versions/3/emnist_source_files/emnist-digits-train-labels-idx1-ubyte\n",
            "/root/.cache/kagglehub/datasets/crawford/emnist/versions/3/emnist_source_files/emnist-letters-test-labels-idx1-ubyte\n",
            "/root/.cache/kagglehub/datasets/crawford/emnist/versions/3/emnist_source_files/emnist-byclass-test-images-idx3-ubyte\n",
            "/root/.cache/kagglehub/datasets/crawford/emnist/versions/3/emnist_source_files/emnist-mnist-train-labels-idx1-ubyte\n",
            "/root/.cache/kagglehub/datasets/crawford/emnist/versions/3/emnist_source_files/emnist-letters-train-images-idx3-ubyte\n",
            "/root/.cache/kagglehub/datasets/crawford/emnist/versions/3/emnist_source_files/emnist-balanced-test-images-idx3-ubyte\n",
            "/root/.cache/kagglehub/datasets/crawford/emnist/versions/3/emnist_source_files/emnist-balanced-train-labels-idx1-ubyte\n",
            "/root/.cache/kagglehub/datasets/crawford/emnist/versions/3/emnist_source_files/emnist-byclass-train-images-idx3-ubyte\n",
            "/root/.cache/kagglehub/datasets/crawford/emnist/versions/3/emnist_source_files/emnist-mnist-test-images-idx3-ubyte\n",
            "/root/.cache/kagglehub/datasets/crawford/emnist/versions/3/emnist_source_files/emnist-digits-train-images-idx3-ubyte\n",
            "/root/.cache/kagglehub/datasets/crawford/emnist/versions/3/emnist_source_files/emnist-balanced-train-images-idx3-ubyte\n",
            "/root/.cache/kagglehub/datasets/crawford/emnist/versions/3/emnist_source_files/emnist-mnist-train-images-idx3-ubyte\n",
            "/root/.cache/kagglehub/datasets/crawford/emnist/versions/3/emnist_source_files/emnist-byclass-train-labels-idx1-ubyte\n",
            "/root/.cache/kagglehub/datasets/crawford/emnist/versions/3/emnist_source_files/emnist-letters-train-labels-idx1-ubyte\n",
            "/root/.cache/kagglehub/datasets/crawford/emnist/versions/3/emnist_source_files/emnist-bymerge-train-labels-idx1-ubyte\n",
            "/root/.cache/kagglehub/datasets/crawford/emnist/versions/3/emnist_source_files/emnist-bymerge-train-images-idx3-ubyte\n",
            "/root/.cache/kagglehub/datasets/crawford/emnist/versions/3/emnist_source_files/emnist-digits-test-labels-idx1-ubyte\n",
            "/root/.cache/kagglehub/datasets/crawford/emnist/versions/3/emnist_source_files/emnist-balanced-test-labels-idx1-ubyte\n",
            "/root/.cache/kagglehub/datasets/crawford/emnist/versions/3/emnist_source_files/emnist-byclass-test-labels-idx1-ubyte\n",
            "/root/.cache/kagglehub/datasets/crawford/emnist/versions/3/emnist_source_files/emnist-digits-test-images-idx3-ubyte\n",
            "/root/.cache/kagglehub/datasets/crawford/emnist/versions/3/emnist_source_files/emnist-bymerge-test-images-idx3-ubyte\n",
            "/root/.cache/kagglehub/datasets/crawford/emnist/versions/3/emnist_source_files/emnist-letters-test-images-idx3-ubyte\n",
            "/root/.cache/kagglehub/datasets/crawford/emnist/versions/3/emnist_source_files/emnist-bymerge-test-labels-idx1-ubyte\n"
          ]
        }
      ]
    },
    {
      "cell_type": "markdown",
      "source": [
        "## Reading the EMNIST letters dataset"
      ],
      "metadata": {
        "id": "Q50J2tUgkcBx"
      }
    },
    {
      "cell_type": "code",
      "source": [
        "testing_letter = pd.read_csv('/root/.cache/kagglehub/datasets/crawford/emnist/versions/3/emnist-letters-test.csv')\n",
        "training_letter = pd.read_csv('/root/.cache/kagglehub/datasets/crawford/emnist/versions/3/emnist-letters-train.csv')\n",
        "print(training_letter.shape)\n",
        "print(testing_letter.shape)"
      ],
      "metadata": {
        "colab": {
          "base_uri": "https://localhost:8080/"
        },
        "id": "u8paTay5cApT",
        "outputId": "3e23f2bb-8f81-4981-8020-193a1e058001"
      },
      "execution_count": 4,
      "outputs": [
        {
          "output_type": "stream",
          "name": "stdout",
          "text": [
            "(88799, 785)\n",
            "(14799, 785)\n"
          ]
        }
      ]
    },
    {
      "cell_type": "code",
      "source": [
        "y1 = np.array(training_letter.iloc[:,0].values)\n",
        "x1 = np.array(training_letter.iloc[:,1:].values)\n",
        "#testing_labels\n",
        "y2 = np.array(testing_letter.iloc[:,0].values)\n",
        "x2 = np.array(testing_letter.iloc[:,1:].values)\n",
        "print(y1.shape)\n",
        "print(x1.shape)"
      ],
      "metadata": {
        "colab": {
          "base_uri": "https://localhost:8080/"
        },
        "id": "3iPQQr1ycBY8",
        "outputId": "6e7939d4-f272-41b7-92b2-945e12365abb"
      },
      "execution_count": 5,
      "outputs": [
        {
          "output_type": "stream",
          "name": "stdout",
          "text": [
            "(88799,)\n",
            "(88799, 784)\n"
          ]
        }
      ]
    },
    {
      "cell_type": "markdown",
      "source": [
        "## Normalize and Reshape of the Data"
      ],
      "metadata": {
        "id": "tVCGGanNkmFN"
      }
    },
    {
      "cell_type": "code",
      "source": [
        "train_images = x1 / 255.0\n",
        "test_images = x2 / 255.0\n",
        "\n",
        "train_images_number = train_images.shape[0]\n",
        "train_images_height = 28\n",
        "train_images_width = 28\n",
        "train_images_size = train_images_height*train_images_width\n",
        "\n",
        "train_images = train_images.reshape(train_images_number, train_images_height, train_images_width, 1)\n",
        "\n",
        "test_images_number = test_images.shape[0]\n",
        "test_images_height = 28\n",
        "test_images_width = 28\n",
        "test_images_size = test_images_height*test_images_width\n",
        "\n",
        "test_images = test_images.reshape(test_images_number, test_images_height, test_images_width, 1)"
      ],
      "metadata": {
        "id": "V2hn9CTlcHbI"
      },
      "execution_count": 6,
      "outputs": []
    },
    {
      "cell_type": "markdown",
      "source": [
        "Architecture:\n",
        "\n",
        "\n",
        "\n",
        "\n",
        "*   4 convolutional layers with increasing filter sizes (64, 128, 256, 512)\n",
        "*   Batch normalization after each convolutional layer\n",
        "*   ReLU activation functions\n",
        "*   2 dense layers with droput\n",
        "\n",
        "\n",
        "\n",
        "Training Features:\n",
        "\n",
        "*  Label smoothing for better generalization\n",
        "*  Mixup data augmentation\n",
        "*  L2 regularization\n",
        "*  Learning rate scheduling with decay\n",
        "*  Adam optimizer with customizable parameters\n",
        "*  Batch processing\n",
        "\n",
        "\n",
        "Data Processing:\n",
        "\n",
        "*  Image normalization (division by 255)\n",
        "*  Reshaping to 28x28x1 format\n",
        "*  One-hot encoding for 47 classes\n",
        "*  Batch creation with shuffling\n",
        "\n",
        "\n",
        "Performance Optimization:\n",
        "\n",
        "*  Uses JAX's J\n"
      ],
      "metadata": {
        "id": "dw69CpLOkudq"
      }
    },
    {
      "cell_type": "code",
      "source": [
        "import jax\n",
        "import jax.numpy as jnp\n",
        "from jax import random, grad, jit, vmap\n",
        "import numpy as np\n",
        "from sklearn.preprocessing import OneHotEncoder\n",
        "\n",
        "\n",
        "def load_and_preprocess_data(training_letter, testing_letter):\n",
        "    y1 = np.array(training_letter.iloc[:, 0].values)\n",
        "    x1 = np.array(training_letter.iloc[:, 1:].values, dtype=np.float32)\n",
        "    y2 = np.array(testing_letter.iloc[:, 0].values)\n",
        "    x2 = np.array(testing_letter.iloc[:, 1:].values, dtype=np.float32)\n",
        "\n",
        "    x1 = x1 / 255.0\n",
        "    x2 = x2 / 255.0\n",
        "\n",
        "    x1 = x1.reshape(-1, 28, 28, 1)\n",
        "    x2 = x2.reshape(-1, 28, 28, 1)\n",
        "\n",
        "    encoder = OneHotEncoder(sparse_output=False, categories=[range(47)])\n",
        "    y1 = encoder.fit_transform(y1.reshape(-1, 1)).astype(np.float32)\n",
        "    y2 = encoder.transform(y2.reshape(-1, 1)).astype(np.float32)\n",
        "\n",
        "    return x1, y1, x2, y2\n",
        "\n",
        "def create_batches(x, y, batch_size):\n",
        "    num_samples = len(x)\n",
        "    indices = np.arange(num_samples)\n",
        "    np.random.shuffle(indices)\n",
        "\n",
        "    for start_idx in range(0, num_samples - batch_size + 1, batch_size):\n",
        "        batch_indices = indices[start_idx:start_idx + batch_size]\n",
        "        yield x[batch_indices], y[batch_indices]\n",
        "\n",
        "def cnn(params, x, is_training=True):\n",
        "    x = jax.lax.conv_general_dilated(\n",
        "        x, params['conv1']['kernel'], (1, 1), 'SAME',\n",
        "        dimension_numbers=('NHWC', 'HWIO', 'NHWC'))\n",
        "    x = x + params['conv1']['bias'].reshape(1, 1, 1, -1)\n",
        "\n",
        "    mean = jnp.mean(x, axis=(0, 1, 2), keepdims=True)\n",
        "    var = jnp.var(x, axis=(0, 1, 2), keepdims=True)\n",
        "    x = (x - mean) / jnp.sqrt(var + 1e-5)\n",
        "    x = x * params['bn1']['scale'].reshape(1, 1, 1, -1) + params['bn1']['bias'].reshape(1, 1, 1, -1)\n",
        "\n",
        "    x = jax.nn.relu(x)\n",
        "    x = jax.lax.reduce_window(\n",
        "        x, -jnp.inf, jax.lax.max,\n",
        "        window_dimensions=(1, 2, 2, 1),\n",
        "        window_strides=(1, 2, 2, 1),\n",
        "        padding='SAME'\n",
        "    )\n",
        "\n",
        "    x = jax.lax.conv_general_dilated(\n",
        "        x, params['conv2']['kernel'], (1, 1), 'SAME',\n",
        "        dimension_numbers=('NHWC', 'HWIO', 'NHWC'))\n",
        "    x = x + params['conv2']['bias'].reshape(1, 1, 1, -1)\n",
        "\n",
        "    mean = jnp.mean(x, axis=(0, 1, 2), keepdims=True)\n",
        "    var = jnp.var(x, axis=(0, 1, 2), keepdims=True)\n",
        "    x = (x - mean) / jnp.sqrt(var + 1e-5)\n",
        "    x = x * params['bn2']['scale'].reshape(1, 1, 1, -1) + params['bn2']['bias'].reshape(1, 1, 1, -1)\n",
        "\n",
        "    x = jax.nn.relu(x)\n",
        "    x = jax.lax.reduce_window(\n",
        "        x, -jnp.inf, jax.lax.max,\n",
        "        window_dimensions=(1, 2, 2, 1),\n",
        "        window_strides=(1, 2, 2, 1),\n",
        "        padding='SAME'\n",
        "    )\n",
        "\n",
        "    x = jax.lax.conv_general_dilated(\n",
        "        x, params['conv3']['kernel'], (1, 1), 'SAME',\n",
        "        dimension_numbers=('NHWC', 'HWIO', 'NHWC'))\n",
        "    x = x + params['conv3']['bias'].reshape(1, 1, 1, -1)\n",
        "\n",
        "    mean = jnp.mean(x, axis=(0, 1, 2), keepdims=True)\n",
        "    var = jnp.var(x, axis=(0, 1, 2), keepdims=True)\n",
        "    x = (x - mean) / jnp.sqrt(var + 1e-5)\n",
        "    x = x * params['bn3']['scale'].reshape(1, 1, 1, -1) + params['bn3']['bias'].reshape(1, 1, 1, -1)\n",
        "\n",
        "    x = jax.nn.relu(x)\n",
        "\n",
        "    x = jax.lax.conv_general_dilated(\n",
        "        x, params['conv4']['kernel'], (1, 1), 'SAME',\n",
        "        dimension_numbers=('NHWC', 'HWIO', 'NHWC'))\n",
        "    x = x + params['conv4']['bias'].reshape(1, 1, 1, -1)\n",
        "\n",
        "    mean = jnp.mean(x, axis=(0, 1, 2), keepdims=True)\n",
        "    var = jnp.var(x, axis=(0, 1, 2), keepdims=True)\n",
        "    x = (x - mean) / jnp.sqrt(var + 1e-5)\n",
        "    x = x * params['bn4']['scale'].reshape(1, 1, 1, -1) + params['bn4']['bias'].reshape(1, 1, 1, -1)\n",
        "\n",
        "    x = jax.nn.relu(x)\n",
        "    x = jnp.mean(x, axis=(1, 2))\n",
        "\n",
        "    x = jnp.dot(x, params['dense1']['kernel']) + params['dense1']['bias']\n",
        "    x = jax.nn.relu(x)\n",
        "    if is_training:\n",
        "        key = random.PRNGKey(0)\n",
        "        x = jax.random.bernoulli(key, 0.3, x.shape) * x / 0.7  # 30% dropout\n",
        "\n",
        "    x = jnp.dot(x, params['dense2']['kernel']) + params['dense2']['bias']\n",
        "    return jax.nn.softmax(x, axis=-1)\n",
        "\n",
        "def init_params(rng, number_of_classes):\n",
        "    keys = random.split(rng, 12)\n",
        "    return {\n",
        "        'conv1': {\n",
        "            'kernel': random.normal(keys[0], (3, 3, 1, 64)) * jnp.sqrt(2.0 / (3 * 3 * 1)),\n",
        "            'bias': jnp.zeros(64)\n",
        "        },\n",
        "        'bn1': {\n",
        "            'scale': jnp.ones(64),\n",
        "            'bias': jnp.zeros(64)\n",
        "        },\n",
        "        'conv2': {\n",
        "            'kernel': random.normal(keys[1], (3, 3, 64, 128)) * jnp.sqrt(2.0 / (3 * 3 * 64)),\n",
        "            'bias': jnp.zeros(128)\n",
        "        },\n",
        "        'bn2': {\n",
        "            'scale': jnp.ones(128),\n",
        "            'bias': jnp.zeros(128)\n",
        "        },\n",
        "        'conv3': {\n",
        "            'kernel': random.normal(keys[2], (3, 3, 128, 256)) * jnp.sqrt(2.0 / (3 * 3 * 128)),\n",
        "            'bias': jnp.zeros(256)\n",
        "        },\n",
        "        'bn3': {\n",
        "            'scale': jnp.ones(256),\n",
        "            'bias': jnp.zeros(256)\n",
        "        },\n",
        "        'conv4': {\n",
        "            'kernel': random.normal(keys[3], (3, 3, 256, 512)) * jnp.sqrt(2.0 / (3 * 3 * 256)),\n",
        "            'bias': jnp.zeros(512)\n",
        "        },\n",
        "        'bn4': {\n",
        "            'scale': jnp.ones(512),\n",
        "            'bias': jnp.zeros(512)\n",
        "        },\n",
        "        'dense1': {\n",
        "            'kernel': random.normal(keys[4], (512, 512)) * jnp.sqrt(2.0 / 512),\n",
        "            'bias': jnp.zeros(512)\n",
        "        },\n",
        "        'dense2': {\n",
        "            'kernel': random.normal(keys[5], (512, number_of_classes)) * jnp.sqrt(2.0 / 512),\n",
        "            'bias': jnp.zeros(number_of_classes)\n",
        "        }\n",
        "    }\n",
        "\n",
        "def smooth_labels(y, alpha=0.1):\n",
        "    return y * (1 - alpha) + alpha / y.shape[1]\n",
        "\n",
        "def mixup_data(x, y, alpha=0.4):\n",
        "    lam = np.random.beta(alpha, alpha)\n",
        "    batch_size = x.shape[0]\n",
        "    index = np.random.permutation(batch_size)\n",
        "    mixed_x = lam * x + (1 - lam) * x[index, :]\n",
        "    mixed_y = lam * y + (1 - lam) * y[index, :]\n",
        "    return mixed_x, mixed_y\n",
        "\n",
        "def loss_fn(params, x, y, l2_lambda=0.0001):\n",
        "    logits = cnn(params, x)\n",
        "    y_smooth = smooth_labels(y, alpha=0.1)\n",
        "    cross_entropy_loss = -jnp.mean(jnp.sum(y_smooth * jax.nn.log_softmax(logits), axis=1))\n",
        "    l2_loss = l2_lambda * sum(jnp.sum(jnp.square(p)) for p in jax.tree_leaves(params))\n",
        "    return cross_entropy_loss + l2_loss\n",
        "\n",
        "def learning_rate_schedule(epoch, initial_lr=0.0003, decay_rate=0.95):\n",
        "    return initial_lr * (decay_rate ** epoch)\n",
        "\n",
        "@jit\n",
        "def adam_update(params, grads, state, lr=0.0003, beta1=0.9, beta2=0.999, eps=1e-8):\n",
        "    state['m'] = jax.tree_map(lambda m, g: beta1 * m + (1 - beta1) * g, state['m'], grads)\n",
        "    state['v'] = jax.tree_map(lambda v, g: beta2 * v + (1 - beta2) * g**2, state['v'], grads)\n",
        "    m_hat = jax.tree_map(lambda m: m / (1 - beta1 ** (state['epoch'] + 1)), state['m'])\n",
        "    v_hat = jax.tree_map(lambda v: v / (1 - beta2 ** (state['epoch'] + 1)), state['v'])\n",
        "    updates = jax.tree_map(lambda m, v: m / (jnp.sqrt(v) + eps), m_hat, v_hat)\n",
        "    params = jax.tree_map(lambda p, u: p - lr * u, params, updates)\n",
        "    return params, state\n",
        "\n",
        "@jit\n",
        "def train_step(params, state, x_batch, y_batch):\n",
        "    loss_value, grads = jax.value_and_grad(loss_fn)(params, x_batch, y_batch)\n",
        "    lr = learning_rate_schedule(state['epoch'])\n",
        "    new_params, new_state = adam_update(params, grads, state, lr)\n",
        "    return new_params, new_state, loss_value\n",
        "\n",
        "@jit\n",
        "def eval_step(params, x_batch, y_batch):\n",
        "    logits = cnn(params, x_batch, is_training=False)\n",
        "    loss = loss_fn(params, x_batch, y_batch)\n",
        "    accuracy = jnp.mean(jnp.argmax(logits, axis=1) == jnp.argmax(y_batch, axis=1))\n",
        "    return loss, accuracy\n",
        "\n",
        "def train_model(params, state, train_batches, test_batches, epochs=100):\n",
        "    for epoch in range(epochs):\n",
        "        state['epoch'] = epoch\n",
        "        epoch_loss = 0.0\n",
        "        num_batches = 0\n",
        "\n",
        "        for x_batch, y_batch in train_batches:\n",
        "            x_batch, y_batch = mixup_data(x_batch, y_batch)\n",
        "            params, state, loss = train_step(params, state, x_batch, y_batch)\n",
        "            epoch_loss += loss\n",
        "            num_batches += 1\n",
        "\n",
        "        avg_train_loss = epoch_loss / num_batches\n",
        "\n",
        "        val_loss, val_accuracy = 0.0, 0.0\n",
        "        num_test_batches = 0\n",
        "\n",
        "        for x_batch, y_batch in test_batches:\n",
        "            batch_loss, batch_accuracy = eval_step(params, x_batch, y_batch)\n",
        "            val_loss += batch_loss\n",
        "            val_accuracy += batch_accuracy\n",
        "            num_test_batches += 1\n",
        "\n",
        "        val_loss /= num_test_batches\n",
        "        val_accuracy /= num_test_batches\n",
        "\n",
        "        print(f\"Epoch {epoch + 1}, Train Loss: {avg_train_loss:.4f}, \"\n",
        "              f\"Validation Loss: {val_loss:.4f}, Validation Accuracy: {val_accuracy:.4f}\")\n",
        "\n",
        "    return params, state\n",
        "\n",
        "def main(training_letter, testing_letter, batch_size=32, epochs=20):\n",
        "    x_train, y_train, x_test, y_test = load_and_preprocess_data(training_letter, testing_letter)\n",
        "\n",
        "    key = random.PRNGKey(0)\n",
        "    number_of_classes = y_train.shape[1]\n",
        "    params = init_params(key, number_of_classes)\n",
        "\n",
        "    state = {\n",
        "        'm': jax.tree_map(jnp.zeros_like, params),\n",
        "        'v': jax.tree_map(jnp.zeros_like, params),\n",
        "        'epoch': 0\n",
        "    }\n",
        "\n",
        "    train_batches = list(create_batches(x_train, y_train, batch_size))\n",
        "    test_batches = list(create_batches(x_test, y_test, batch_size))\n",
        "\n",
        "    params, state = train_model(params, state, train_batches, test_batches, epochs)\n",
        "\n",
        "    return params, state\n",
        "\n",
        "if __name__ == \"__main__\":\n",
        "    params, state = main(training_letter, testing_letter)\n"
      ],
      "metadata": {
        "colab": {
          "base_uri": "https://localhost:8080/"
        },
        "id": "eMBD48AVc3Re",
        "outputId": "39257097-2c97-471c-ecd8-fca57d96a44c"
      },
      "execution_count": 7,
      "outputs": [
        {
          "output_type": "stream",
          "name": "stderr",
          "text": [
            "<ipython-input-7-0b1137116539>:235: DeprecationWarning: jax.tree_map is deprecated: use jax.tree.map (jax v0.4.25 or newer) or jax.tree_util.tree_map (any JAX version).\n",
            "  'm': jax.tree_map(jnp.zeros_like, params),\n",
            "<ipython-input-7-0b1137116539>:236: DeprecationWarning: jax.tree_map is deprecated: use jax.tree.map (jax v0.4.25 or newer) or jax.tree_util.tree_map (any JAX version).\n",
            "  'v': jax.tree_map(jnp.zeros_like, params),\n",
            "<ipython-input-7-0b1137116539>:166: DeprecationWarning: jax.tree_leaves is deprecated: use jax.tree.leaves (jax v0.4.25 or newer) or jax.tree_util.tree_leaves (any JAX version).\n",
            "  l2_loss = l2_lambda * sum(jnp.sum(jnp.square(p)) for p in jax.tree_leaves(params))\n",
            "<ipython-input-7-0b1137116539>:174: DeprecationWarning: jax.tree_map is deprecated: use jax.tree.map (jax v0.4.25 or newer) or jax.tree_util.tree_map (any JAX version).\n",
            "  state['m'] = jax.tree_map(lambda m, g: beta1 * m + (1 - beta1) * g, state['m'], grads)\n",
            "<ipython-input-7-0b1137116539>:175: DeprecationWarning: jax.tree_map is deprecated: use jax.tree.map (jax v0.4.25 or newer) or jax.tree_util.tree_map (any JAX version).\n",
            "  state['v'] = jax.tree_map(lambda v, g: beta2 * v + (1 - beta2) * g**2, state['v'], grads)\n",
            "<ipython-input-7-0b1137116539>:176: DeprecationWarning: jax.tree_map is deprecated: use jax.tree.map (jax v0.4.25 or newer) or jax.tree_util.tree_map (any JAX version).\n",
            "  m_hat = jax.tree_map(lambda m: m / (1 - beta1 ** (state['epoch'] + 1)), state['m'])\n",
            "<ipython-input-7-0b1137116539>:177: DeprecationWarning: jax.tree_map is deprecated: use jax.tree.map (jax v0.4.25 or newer) or jax.tree_util.tree_map (any JAX version).\n",
            "  v_hat = jax.tree_map(lambda v: v / (1 - beta2 ** (state['epoch'] + 1)), state['v'])\n",
            "<ipython-input-7-0b1137116539>:178: DeprecationWarning: jax.tree_map is deprecated: use jax.tree.map (jax v0.4.25 or newer) or jax.tree_util.tree_map (any JAX version).\n",
            "  updates = jax.tree_map(lambda m, v: m / (jnp.sqrt(v) + eps), m_hat, v_hat)\n",
            "<ipython-input-7-0b1137116539>:179: DeprecationWarning: jax.tree_map is deprecated: use jax.tree.map (jax v0.4.25 or newer) or jax.tree_util.tree_map (any JAX version).\n",
            "  params = jax.tree_map(lambda p, u: p - lr * u, params, updates)\n",
            "<ipython-input-7-0b1137116539>:166: DeprecationWarning: jax.tree_leaves is deprecated: use jax.tree.leaves (jax v0.4.25 or newer) or jax.tree_util.tree_leaves (any JAX version).\n",
            "  l2_loss = l2_lambda * sum(jnp.sum(jnp.square(p)) for p in jax.tree_leaves(params))\n"
          ]
        },
        {
          "output_type": "stream",
          "name": "stdout",
          "text": [
            "Epoch 1, Train Loss: 3.6606, Validation Loss: 3.4444, Validation Accuracy: 0.7677\n",
            "Epoch 2, Train Loss: 3.4737, Validation Loss: 3.3543, Validation Accuracy: 0.8370\n",
            "Epoch 3, Train Loss: 3.4293, Validation Loss: 3.3282, Validation Accuracy: 0.8458\n",
            "Epoch 4, Train Loss: 3.4051, Validation Loss: 3.3123, Validation Accuracy: 0.8477\n",
            "Epoch 5, Train Loss: 3.3895, Validation Loss: 3.2805, Validation Accuracy: 0.8809\n",
            "Epoch 6, Train Loss: 3.3683, Validation Loss: 3.2671, Validation Accuracy: 0.8849\n",
            "Epoch 7, Train Loss: 3.3613, Validation Loss: 3.2575, Validation Accuracy: 0.8873\n",
            "Epoch 8, Train Loss: 3.3493, Validation Loss: 3.2510, Validation Accuracy: 0.8914\n",
            "Epoch 9, Train Loss: 3.3410, Validation Loss: 3.2427, Validation Accuracy: 0.8944\n",
            "Epoch 10, Train Loss: 3.3425, Validation Loss: 3.2378, Validation Accuracy: 0.8957\n",
            "Epoch 11, Train Loss: 3.3363, Validation Loss: 3.2344, Validation Accuracy: 0.8943\n",
            "Epoch 12, Train Loss: 3.3278, Validation Loss: 3.2279, Validation Accuracy: 0.8977\n",
            "Epoch 13, Train Loss: 3.3261, Validation Loss: 3.2238, Validation Accuracy: 0.9001\n",
            "Epoch 14, Train Loss: 3.3190, Validation Loss: 3.2228, Validation Accuracy: 0.8981\n",
            "Epoch 15, Train Loss: 3.3161, Validation Loss: 3.2174, Validation Accuracy: 0.9012\n",
            "Epoch 16, Train Loss: 3.3177, Validation Loss: 3.2145, Validation Accuracy: 0.9014\n",
            "Epoch 17, Train Loss: 3.3070, Validation Loss: 3.2131, Validation Accuracy: 0.9020\n",
            "Epoch 18, Train Loss: 3.3108, Validation Loss: 3.2108, Validation Accuracy: 0.9015\n",
            "Epoch 19, Train Loss: 3.3056, Validation Loss: 3.2103, Validation Accuracy: 0.9014\n",
            "Epoch 20, Train Loss: 3.3059, Validation Loss: 3.2097, Validation Accuracy: 0.9010\n"
          ]
        }
      ]
    },
    {
      "cell_type": "code",
      "source": [
        "import matplotlib.pyplot as plt"
      ],
      "metadata": {
        "id": "puFBKSnqKRPj"
      },
      "execution_count": 8,
      "outputs": []
    },
    {
      "cell_type": "code",
      "source": [
        "@jit\n",
        "def predict(params, x):\n",
        "    \"\"\"Generate predictions using the CNN model.\"\"\"\n",
        "    logits = cnn(params, x, is_training=False)\n",
        "    return jnp.argmax(logits, axis=-1)\n"
      ],
      "metadata": {
        "id": "xJAea4uxKBzD"
      },
      "execution_count": 9,
      "outputs": []
    },
    {
      "cell_type": "markdown",
      "source": [
        "## Validation of the model by Predicting certain data's and visualising them"
      ],
      "metadata": {
        "id": "SoJZx2P1mwKP"
      }
    },
    {
      "cell_type": "markdown",
      "source": [
        "### Metrics are given\n",
        "\n",
        "Accuracy: 0.9070\n",
        "\n",
        "F1 Score (Macro): 0.6697\n",
        "\n",
        "ROC AUC (Mean): 0.9874\n",
        "\n",
        "Recall (Macro): 0.6644\n",
        "\n",
        "Log Loss: 2.9816\n",
        "\n",
        "Specificity (Mean): 0.9957"
      ],
      "metadata": {
        "id": "zahoscm6kGFN"
      }
    },
    {
      "cell_type": "code",
      "source": [
        "import matplotlib.pyplot as plt\n",
        "import jax.numpy as jnp\n",
        "import jax\n",
        "import numpy as np\n",
        "import pandas as pd\n",
        "from sklearn.preprocessing import OneHotEncoder\n",
        "from sklearn.metrics import (\n",
        "    accuracy_score, f1_score, roc_auc_score, recall_score,\n",
        "    log_loss, confusion_matrix\n",
        ")\n",
        "\n",
        "def load_test_data(testing_letter):\n",
        "    \"\"\"Load and preprocess test data\"\"\"\n",
        "    test_y = np.array(testing_letter.iloc[:, 0].values)\n",
        "    test_x = np.array(testing_letter.iloc[:, 1:].values, dtype=np.float32)\n",
        "    test_x = test_x / 255.0\n",
        "    test_x = test_x.reshape(-1, 28, 28, 1)\n",
        "    encoder = OneHotEncoder(sparse_output=False, categories=[range(47)])\n",
        "    test_y_onehot = encoder.fit_transform(test_y.reshape(-1, 1)).astype(np.float32)\n",
        "    return test_x, test_y_onehot\n",
        "\n",
        "def create_label_mapping(mapping_path):\n",
        "    \"\"\"Create dictionary mapping indices to letters\"\"\"\n",
        "    mapp = pd.read_csv(mapping_path, sep=\" \", header=None,\n",
        "                      names=[\"index\", \"label\"], index_col=0)\n",
        "    label_dictionary = {index: chr(label) for index, label in mapp[\"label\"].items()}\n",
        "    return label_dictionary\n",
        "\n",
        "@jax.jit\n",
        "def predict(params, x):\n",
        "    \"\"\"Generate predictions using the CNN model\"\"\"\n",
        "    logits = cnn(params, x, is_training=False)\n",
        "    return jnp.argmax(logits, axis=-1)\n",
        "\n",
        "def calculate_metrics(y_true, y_pred, y_pred_proba, label_dictionary):\n",
        "    \"\"\"Calculate simplified classification metrics\"\"\"\n",
        "    unique_classes = np.unique(y_true)\n",
        "    accuracy = accuracy_score(y_true, y_pred)\n",
        "    f1 = f1_score(y_true, y_pred, average='macro')\n",
        "    recall = recall_score(y_true, y_pred, average='macro')\n",
        "    conf_matrix = confusion_matrix(y_true, y_pred)\n",
        "    specificities = []\n",
        "    for i in unique_classes:\n",
        "        tn = conf_matrix.sum() - (conf_matrix[i].sum() + conf_matrix[:,i].sum() - conf_matrix[i,i])\n",
        "        fp = conf_matrix[:,i].sum() - conf_matrix[i,i]\n",
        "        specificity = tn / (tn + fp) if (tn + fp) > 0 else 0\n",
        "        specificities.append(specificity)\n",
        "    mean_specificity = np.mean(specificities)\n",
        "    encoder = OneHotEncoder(sparse_output=False, categories=[unique_classes])\n",
        "    y_true_onehot = encoder.fit_transform(y_true.reshape(-1, 1))\n",
        "    y_pred_proba_filtered = y_pred_proba[:, unique_classes]\n",
        "    roc_auc_scores = []\n",
        "    for i in range(len(unique_classes)):\n",
        "        try:\n",
        "            score = roc_auc_score(y_true_onehot[:, i], y_pred_proba_filtered[:, i])\n",
        "            roc_auc_scores.append(score)\n",
        "        except:\n",
        "            roc_auc_scores.append(0.0)\n",
        "    mean_roc_auc = np.mean(roc_auc_scores)\n",
        "    logloss = log_loss(y_true_onehot, y_pred_proba_filtered)\n",
        "    print(\"\\nModel Performance Metrics:\")\n",
        "    print(\"=========================\")\n",
        "    print(f\"Accuracy: {accuracy:.4f}\")\n",
        "    print(f\"F1 Score (Macro): {f1:.4f}\")\n",
        "    print(f\"ROC AUC (Mean): {mean_roc_auc:.4f}\")\n",
        "    print(f\"Recall (Macro): {recall:.4f}\")\n",
        "    print(f\"Log Loss: {logloss:.4f}\")\n",
        "    print(f\"Specificity (Mean): {mean_specificity:.4f}\")\n",
        "\n",
        "    return {\n",
        "        'accuracy': accuracy,\n",
        "        'f1_score': f1,\n",
        "        'roc_auc': mean_roc_auc,\n",
        "        'recall': recall,\n",
        "        'log_loss': logloss,\n",
        "        'specificity': mean_specificity\n",
        "    }\n",
        "\n",
        "def visualize_predictions(test_x, y_pred_test, y_true_test, label_dictionary,\n",
        "                         start_idx=200, num_samples=18):\n",
        "    \"\"\"Visualize model predictions with true and predicted labels\"\"\"\n",
        "    plt.figure(figsize=(12, 10), dpi=80)\n",
        "    for i in range(num_samples):\n",
        "        plt.subplot(3, 6, i + 1)\n",
        "        plt.imshow(test_x[start_idx + i].reshape(28, 28), cmap=plt.cm.gray)\n",
        "\n",
        "        predicted_label = label_dictionary[int(y_pred_test[start_idx + i])]\n",
        "        true_label = label_dictionary[int(y_true_test[start_idx + i])]\n",
        "\n",
        "        plt.title(f\"Pred: {predicted_label}\\nTrue: {true_label}\")\n",
        "        plt.axis('off')\n",
        "\n",
        "    plt.tight_layout()\n",
        "    plt.show()\n",
        "\n",
        "def main():\n",
        "    test_x, test_y_onehot = load_test_data(testing_letter)\n",
        "    mapping_path = \"/root/.cache/kagglehub/datasets/crawford/emnist/versions/3/emnist-letters-mapping.txt\"\n",
        "    label_dictionary = create_label_mapping(mapping_path)\n",
        "    y_pred_proba = jax.nn.softmax(cnn(params, test_x, is_training=False))\n",
        "    y_pred_test = jnp.argmax(y_pred_proba, axis=-1)\n",
        "    y_true_test = jnp.argmax(test_y_onehot, axis=-1)\n",
        "    metrics = calculate_metrics(\n",
        "        np.array(y_true_test),\n",
        "        np.array(y_pred_test),\n",
        "        np.array(y_pred_proba),\n",
        "        label_dictionary\n",
        "    )\n",
        "    visualize_predictions(test_x, y_pred_test, y_true_test, label_dictionary)\n",
        "\n",
        "if __name__ == \"__main__\":\n",
        "    main()"
      ],
      "metadata": {
        "colab": {
          "base_uri": "https://localhost:8080/",
          "height": 953
        },
        "id": "ZbSfQUGPT7HC",
        "outputId": "6f510e64-62a5-4d45-b48d-1ebed23289f6"
      },
      "execution_count": 11,
      "outputs": [
        {
          "output_type": "stream",
          "name": "stderr",
          "text": [
            "/usr/local/lib/python3.11/dist-packages/sklearn/metrics/_classification.py:1565: UndefinedMetricWarning: Recall is ill-defined and being set to 0.0 in labels with no true samples. Use `zero_division` parameter to control this behavior.\n",
            "  _warn_prf(average, modifier, f\"{metric.capitalize()} is\", len(result))\n",
            "/usr/local/lib/python3.11/dist-packages/sklearn/metrics/_classification.py:3001: UserWarning: The y_pred values do not sum to one. Make sure to pass probabilities.\n",
            "  warnings.warn(\n"
          ]
        },
        {
          "output_type": "stream",
          "name": "stdout",
          "text": [
            "\n",
            "Model Performance Metrics:\n",
            "=========================\n",
            "Accuracy: 0.9070\n",
            "F1 Score (Macro): 0.6697\n",
            "ROC AUC (Mean): 0.9874\n",
            "Recall (Macro): 0.6644\n",
            "Log Loss: 2.9816\n",
            "Specificity (Mean): 0.9957\n"
          ]
        },
        {
          "output_type": "display_data",
          "data": {
            "text/plain": [
              "<Figure size 960x800 with 18 Axes>"
            ],
            "image/png": "[encoded data removed]"
          },
          "metadata": {}
        }
      ]
    },
    {
      "cell_type": "markdown",
      "source": [
        "## Under multiple runs we have found that our model provides better test accuracy the best till now what we have got with the same model image is displayed below. The jupyter book link and the image of it\n",
        "\n",
        "[Jupyter NoteBook Run on local device with the below test accuracy](https://colab.research.google.com/drive/1fumHtw2FpWoWPPuf8sbkQfxDtjiP4eDN?usp=sharing)\n",
        "\n",
        "![Screenshot 2025-02-14 142451.png](data:image/png;base64,iVBORw0KGgoAAAANSUhEUgAAAQ4AAABICAYAAAAHxxtgAAAAAXNSR0IArs4c6QAAAARnQU1BAACxjwv8YQUAAAAJcEhZcwAADsMAAA7DAcdvqGQAAA8BSURBVHhe7d1xbJN3fsfx9425x7l3yLTiaSRMhS9TSjebiZQ1VJeWw62uYcNUl5xVgq6OlIhRk6NpsjQdjTDXIDctsEvSEjKEgpRQ4U6BnNZEI5tad+iyrWGVkeqcjnpjZocz5VzRelx5xO5Zuv3x2MnjJ4bkAdyut+9L4g+e5+uH53ns5/N8f7/nkfjahg0b/gchhLDgd8wLhBBiIRIcQgjLJDiEEJZJcAghLJPgEEJYJsEhhLBMgkMIYZkEhxDCMgkOIYRlEhxCCMskOIQQlklwCCEsk+AQQlgmwSGEsEyCQwhhmQSHEMIyCQ4hhGUSHEIIyyQ4hBCWSXAIISyT4BBCWCbBIYSwTIJDCGGZBIcQwjIJDiGEZRIcQgjLJDiEEJZJcAghLPvaYv7T6WD3EN6V5qVmKvGBOjpGzcuLZGOQA4FHcf3nz/C39JnX3jal/gC9m10AaBcibN87bC4RXwUllQTqa3jc7cRu0xepV5LEhg/R83dpc7UlyncCNPgfx1Nix7YEmNFQ/2OCSG8PYxfN1eDa3ETwqXJc99r1BZpKavJdTrwySCy/kqqdz/Dkw2twLsvutKaS+WWM08cKb3tOOU1v7KGyhKJek1/djuNbK7hvma1IR6Dge9AF11OkMmBb/RC15hLxFeClKbQL37q50ACw3+uicsdBQlsVY7E1W1oJN/ooX5kNDYAlNuyrKml4KYSvJL9c2R7mx/WVc6EBYLPjXOejtTtIubF4yzPUPuGZC41sraM0u21jrYn3xWA2NIprUZdd3/N+/P65P9EpsmlmXF6cZPtSlNTgXg3aL88xkszAUhfup81F4v+68pYaKlfYQEszcaKDRr+fxpcHmZjWADseXwNe84cWxUPTkxU4bJC5MEbfy434/X7aXovo217mYWu9YcsltTRtLsNOtv7P/fj9bfSdSaACtpWPsq3OGGIan32cIHqykza/Xtt5coK0BiwrZd0WQ6mBsjVE3XoHZGLEpsxr76xFDVXM9KHLQm2Qi6ofBan5IxeOXGd2NcXEqdfpOZM0F6N8r4Fn//gx1uS1fTH++uQhhj/IVQXpGvLizP/oPKn3/DQfMS9dPGVXF72bnCRH/bRdCTFQ58GWGGZ7e8RcCpZb1tx5ceKY7Z3TxKMR/nJgnFzz7Ns3QMBNgXOcPQdTUfzPzw3RjPUnZpp47gcVs3cs9fI4kQM9jE3PbUX5Ti0BnxfP/Y7Zu7GmZkj982n6Do9R4Buisq6BmscMd0JNJfWPEV7P1W/aw7Fd5TiuJ4g80455cDc7/Ls0RuML/bPHCvrFFX6tmrKvZ4ifbKfj7dsbRoCP0EAAj10lfuKF/O2VNHCguwrXkgyxwzvoPGv83CKUNNH7RiVKJkbfjk6ieeuy274Wp7+hgzHD74npcTp39+QNS7wvHSO4zgGXRvC/MGhYM1/g1ZP4SjXix+voOGNaWeIjFA7g+UaK6E+a4YeLuUZv3aI6Dus8BF79MQ0b50IDwLbMSWV9mK6dHmMxbNpDeEcVnnltXwVP/cnNGrNiUKgpc8JMko/+Fhg9z0UVbPe7Cw5XlK0hDj5fuGWt/aF538sJdoez58XYOyt4ttRQYyy9Rd98qItwfWVem2tfVUngzwLM3dN8PPun1VSUzoUGgM3uwLWxgdaWvMZZH7rtO0jTlvJ57bNzYy3P5O6A740yOQ0sdfHQvA5NoWatC9BITJhCA6D6YcrswBIHnu+az9stWPsA9+m3eKKG0FDcPpraHsO1BMCB8gfGDy3SA3buAtA0Pjavmz5H+hNg2XL0GTJ4fOV9ACQ/MIaGC299iJoHHfpfldU3HoKUePDWh3m81IY29T6j5tBAoXZ3LZ5lGqmzx+mbvdEWT1GCQ6l7hqpSO1xNEs22iP7dHQy+k0TFhrNyG9WG+qrKNTiAzAd9dOzWhz6NL/cxfC7FJ5qhkD6ac0OjgTgqwFQ0bxjl999et0FJDWUrgekkI9MAI5z/NxWWlrGuzlwboHWbBzugXp5g+EjbTfZdH396V9pAy5B4ZzB7rG10noyS+FjNL74ldlxuJzY1xXj2vLf9lX6ebKvcVBlLr2VInhum/zV9n/27Oxg8l0YDlAefpNJQqtS1Uuu2Ayqpc8PZVruRjqPDTFz+hLnDjBM5nwRslK1vMAQVsLYW90ogE+fdU8YVWePnSajATIb434+Y11p3v51vAmSmGAcorSK4v5fufQEqV83dze5ZccPL9cbOTvHpDLCinGdfqKa8FEDB80Qtra8+R/mK/HLH3TYgw6eX9LrKp1vpGjhAcLMHZWm2yL7c1En7CA0MMTQ0xNAbIYKbyyAxxpFX+0wTqeDZuQdfmQ11MkLn0bhpbXEUJTiq3C5sZIi92Ubf23H97jIdZ+RoG2MJDZY6cW+eq5/69WcA3O2qZF2p/nNLT0aJHGym+ZU78COywLPNjRNIJU7P3hVHfp5CA1zuQF6tUr0Olw2YHqen5RCR9/QGv/C++6j8fYc+N/RWO+1HR4hPAySJ/bSP9l3t3IlnQ9qlMXpebKYne96Tp85x8areBd09WzVCx64dtB2MMPZBdlAyHWfk4CS/ArjLxvLZWoWadS5sQPpsD80HI0QvAqSJvxPhUEsznYZWOH38fRLXgVUP5E0Qep4oQwGS/9Sf39rnfDhIe50f/7Ydd2CYMkf9DAIvdTEQbsC7RsGWHboN/sPt/BuDjJ3PADaUh2vZ8+oQQ0O9hHbqXZyhJzP4DNXexIFj3TT9oAKnHdDSxM+M6YG5CPayKna1t1JlnPxcH6R+oxPb1Tinjo7M7+SKpAjBUcXqewAclO/KJqbhT3WZDbCz/P65T8S7+4le1rDd68H3fC9DA8fo2hfE576NWe9b4sFbqgBpLo0bvoJTkySvA6vcGKOjYsU9AKQm88ethTlZbgeuXuTcHbwwzH6V7GfcMJcBY3Q0+PH7m/OCSfleA6HuAU6+Zfx+Cs0fVbBiOUCKycMLHyUM8+4vMrDERfm23JDUy5YHFbie4P3jxTv2Quxun/5UZQmoUzFGuhupa+lh5De/0Qs+N7WFixR9rZ3+s0kyxotezZA8N06yYBA4qayvxOXQO87k2X7atjfScTzNf5lLQQ/3umwXvbuDQyfHSalgK6kg0Jjr18tpqvPitGWIvdmR7ZC/GEUIDhv8rnnZQmL0tWyn7fgYsQtpVJsDp9tLYF8vx/b68lveYlrrpawEvZ3ca7ygqilbCixx4TYPVwDtunnJTXyuofdXX6ItIQ6a55QWMqNxzbzsBqKjk6QBpdSLB2BTBd92QOYX786bMC2aX2tkowHt4wTR423UPd8522n4sqH/SXrM8CEr0owdbmNH7uL2+/HX7aDtxGfwdSCTJjdouJbLphl9qNfTsoO23IRyybf1uZirnxaYkM6ajjPx0x6a/2KCNPp8mz7AqmB1CQVv0vp7V3Y8dfrfB/bdwpDsJooQHCN8/ClAmon9+XMPefMQR82fg+SZfjr3NlK33U/bcf3xk2PtVho2miuLw+PV2+mbMQ5XLmWHWM6y2gU/BxnU64DDyYb15nU3Ymd53ot3ClUtbvSptltX+8ga7IA2PUEkN8fh9+P3R0mZi7mEeg1Y4uSBpxc+SgA+jBC7BJS42bIRqr0eHKSZHC04SCmOsx+Rvg6gcuFv2ukzPskrqWXD79mBDOkLhs/cNgXfTn3iNZP4mT63ApyfynZZ0+9z/GAkryMs3579zX1yiQUjLJ1NoP/GMK/05ShCcMD4pTSgULH7AMHvV+BZ4IWU4MEBuvYFqX7EM3sBXrscI3EF4C5s38qvB8MdZeUGwvXe2RnsW5cbpmSIHZ4fdP7dYyRn9OFKQ/Z44udTZABbmY/w/iDV67N7UVpO9Y+66HrJmPLv8tG0lj0vXbRu92bPi4LniQZCR8IEDdWfXtfvl84/bKWqFCj10rAvTOARfZx+Oxzf0LegZab4l1QScFH+/SCh7g0FhipxYv+uj+fLngoT3pmbDATX+mqaftLFnnnvFaTpn0ig4WDNd5t4aLUNLTFO5ENznUFJLeGBIYbeOnZ7L2bNGub9f1X1u66/i6at+m9LcftobffpHeRUjNECj2KVrSGOvTXE0FsDHKg3P2GaT3FXULW9ifCRbgJuO1yN8/aJXGxAPDpJagZY+SjP7WvAW0r2qUqYpkcUfd7r7E0exZZ4qNjcQChUgQJkEuPZkDE8LDD9Mb9rVffynZ0rLNJ7HD72HAtQnn3SNI8aZ7Cug9yh3PSV9qtxBhvmaud42XMsWPDfuKX3ONa20ru3ovCzeQAUgt29eFdC8kwjbcf1cPTtDRNYW2AnAHVyMP8LWx+kq8WLs+CVnyJqnIfIvRORXwRaBnXGgf1Kofc47Is6ds+uLkKb5kfELNP3Q4mP0P4Annk7w01eazZ+PzeqMdjVxVBuny6P4W/pN1dYl3u3YZl5BaDp7zsUenSZ93s0vS8zy7i/RmqSsTfa6Ddtt3xXF62bnAVDX50c5IWX5yY2c99lIdrlKIda5j9ZMVv4Gr09Rek4YITOvT2MnE+hLqKnOj00zMTFTH6tppI6P0JPe6HQAIjSeXSE2JSKNmNeZ53nCZee5smJAqEBkOZ0Qm/kXQ/m5l3SjOxvp2c0RuqqYednVDIXx4m8adrzD/po3tvPuOlYtaspYqOnOW2sfa+TvjMJMrn5kxkN9fI4/Xvf5uLnxkLr4kdeJ3Iu/7tRrySZOBUhljFWZk2P0FHo+1QzJM9GOFHwhxll9OfZSyFzgfGCNQZ3+nEs2f1+JXu+c7+RGU2fJL1BaACcjsbJzOjfY/LDCfPq+WY01Csp4u8M0vHi/NAAiB3p5Ij5d6Lqk6TG0Cgou/3YmT7aFxEaX4Rb6jiEWJj+0pjeBXXQfOSLeb9AfDGK1HGI/88Ut5eG/eHZ8X5UQuO3jnQc4s4xj/tvMo8gvtqk4xB3Xm4eobdTQuO3lHQcQgjLpOMQQlgmwSGEsEyCQwhhmQSHEMIyCQ4hhGUSHEIIyyQ4hBCWSXAIISyT4BBCWCbBIYSwTIJDCGGZBIcQwjIJDiGEZRIcQgjLJDiEEJZJcAghLJPgEEJYJsEhhLBMgkMIYZkEhxDCMgkOIYRlEhxCCMskOIQQlklwCCEsk+AQQlj2vxWFwXKNiMHIAAAAAElFTkSuQmCC)"
      ],
      "metadata": {
        "id": "Ad68dTajnNnG"
      }
    }
  ]
}